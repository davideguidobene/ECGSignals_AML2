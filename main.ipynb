{
 "cells": [
  {
   "cell_type": "code",
   "execution_count": 1,
   "metadata": {
    "collapsed": false
   },
   "outputs": [],
   "source": [
    "from sklearn.feature_selection import SelectKBest, f_classif\n",
    "import pandas as pd\n",
    "import numpy as np\n",
    "from sklearn.model_selection import train_test_split\n",
    "from tslearn.utils import to_time_series_dataset\n",
    "import biosppy.signals.ecg as ecg\n",
    "import matplotlib.pyplot as plt\n",
    "import neurokit2 as nk\n",
    "import heartpy as hp\n",
    "from statistics import mean\n",
    "import functions\n",
    "from multiprocessing import Pool\n",
    "from datetime import time\n",
    "import functions\n",
    "import scipy\n",
    "import math\n",
    "import operator\n",
    "from functions import *\n",
    "import itertools\n",
    "import scipy.stats as stats\n",
    "import pyhrv.tools as tools\n",
    "from pyhrv.hrv import hrv\n"
   ]
  },
  {
   "cell_type": "code",
   "execution_count": 2,
   "metadata": {},
   "outputs": [],
   "source": [
    "folder = \"\"\n",
    "raw = folder + \"raw_data/\"\n",
    "# raw_dataset_x = pd.read_csv(raw + 'X_train.csv',index_col=['id'])\n"
   ]
  },
  {
   "cell_type": "code",
   "execution_count": 3,
   "metadata": {},
   "outputs": [],
   "source": [
    "# raw_dataset_x.info()"
   ]
  },
  {
   "cell_type": "code",
   "execution_count": 4,
   "metadata": {},
   "outputs": [],
   "source": [
    "# raw_dataset_y = pd.read_csv(raw + 'y_train.csv',index_col=['id'])\n",
    "# raw_dataset_y.head()"
   ]
  },
  {
   "cell_type": "code",
   "execution_count": 5,
   "metadata": {},
   "outputs": [],
   "source": [
    "#x_train, x_test, y_train, y_test = train_test_split(raw_dataset_x, raw_dataset_y, test_size=0.2, random_state=100)\n",
    "x_train = pd.read_csv(raw + 'X_train.csv', index_col=['id'])\n",
    "x_test = pd.read_csv(raw + 'X_test.csv', index_col=['id'])\n",
    "y_train = pd.read_csv(raw + 'y_train.csv', index_col=['id'])\n",
    "y_test = pd.DataFrame({'A': []})"
   ]
  },
  {
   "cell_type": "code",
   "execution_count": 6,
   "metadata": {},
   "outputs": [],
   "source": [
    "count_0 = 0\n",
    "def apply_func(index,row):\n",
    "    #print(\"Extracting features from row -> \",index)\n",
    "    values_dict = {}\n",
    "    a = datetime.datetime.now()\n",
    "    ecg_signal = row.dropna().to_numpy()\n",
    "    ecg_cleaned = nk.ecg_clean(ecg_signal, sampling_rate=300)\n",
    "    #     ecg_cleaned = ecg_signal\n",
    "\n",
    "    ecg_cleaned /= np.max(np.abs(ecg_cleaned), axis = 0)\n",
    "    # to try\n",
    "    #max_abs = max(ecg_cleaned.min(), ecg_cleaned.max(), key=abs)\n",
    "    #ecg_cleaned = ecg_cleaned / max_abs\n",
    "    #     # Extract R-peaks locations\n",
    "    peaks, rpeaks = nk.ecg_peaks(ecg_cleaned, sampling_rate=300)\n",
    "    # Delineate the ECG signal\n",
    "    b = datetime.datetime.now()\n",
    "    #print(\"r_peak\", (b - a).seconds)\n",
    "    \n",
    "    nk_features = np.zeros(380)\n",
    "    \n",
    "    \n",
    "    #rpeaks_results = hrv(rpeaks['ECG_R_Peaks'], plot_ecg=False, show=False, plot_tachogram = False)\n",
    "    values_dict['hrv_hr_mean'] = rpeaks_results['hr_mean']\n",
    "    values_dict['hrv_hr_std'] = rpeaks_results['hr_std']\n",
    "    values_dict['hrv_hr_max'] = rpeaks_results['hr_max']\n",
    "    values_dict['hrv_hr_min'] = rpeaks_results['hr_min']\n",
    "    values_dict['hrv_sdnn'] = rpeaks_results['sdnn']\n",
    "    values_dict['hrv_sdnn_index'] = rpeaks_results['sdnn_index']\n",
    "    values_dict['hrv_sdann'] = rpeaks_results['sdann']\n",
    "    values_dict['hrv_rmssd'] = rpeaks_results['rmssd']\n",
    "    values_dict['hrv_sdsd'] = rpeaks_results['sdsd']\n",
    "    values_dict['hrv_pnn50'] = rpeaks_results['pnn50']\n",
    "    values_dict['hrv_pnn20'] = rpeaks_results['pnn20']\n",
    "    values_dict['hrv_nn50'] = rpeaks_results['nn50']\n",
    "    values_dict['hrv_nn20'] = rpeaks_results['nn20']\n",
    "    values_dict['hrv_sd1'] = rpeaks_results['sd1']\n",
    "    values_dict['hrv_sd2'] = rpeaks_results['sd2']\n",
    "    values_dict['hrv_sd_ratio'] = rpeaks_results['sd_ratio']\n",
    "    values_dict['hrv_dfa_short'] = rpeaks_results['dfa_short']\n",
    "    values_dict['hrv_dfa_long'] = rpeaks_results['dfa_long']\n",
    "    values_dict['hrv_ellipse_area'] = rpeaks_results['ellipse_area']\n",
    "    values_dict['hrv_sample_entropy'] = rpeaks_results['sample_entropy']\n",
    "    values_dict['hrv_X_ratio'] = rpeaks_results['X_ratio']\n",
    "    values_dict['hrv_X_total'] = rpeaks_results['X_total']\n",
    "    values_dict['hrv_fft_resampling_frequency'] = rpeaks_results['fft_resampling_frequency']\n",
    "    values_dict['hrv_tinn_n'] = rpeaks_results['tinn_n']\n",
    "    values_dict['hrv_tinn_m'] = rpeaks_results['tinn_m']\n",
    "    values_dict['hrv_tinn'] = rpeaks_results['tinn']\n",
    "    values_dict['hrv_tri_index'] = rpeaks_results['tri_index']\n",
    "    \n",
    "    #count values below 0 in ecg signal\n",
    "    values_dict['below'] = np.count_nonzero(ecg_cleaned < 0)\n",
    "    #count values above 0 in ecg signal\n",
    "    values_dict['above'] = np.count_nonzero(ecg_cleaned > 0)\n",
    "\n",
    "\n",
    "\n",
    "    if len(rpeaks['ECG_R_Peaks']) > 3:\n",
    "        try:\n",
    "            signal_dwt, waves_dwt = nk.ecg_delineate(ecg_cleaned, rpeaks, show_type='all', sampling_rate=300,\n",
    "                                                     method=\"dwt\")\n",
    "            for key, arr in waves_dwt.items():\n",
    "                if 'Onsets' in key or 'Offsets' in key:\n",
    "                    array = np.array(arr)\n",
    "                    #row = add_basic_info(row, np.array(arr), key)\n",
    "                    #row = add_basic_info(row, amplitudes, f\"{key}_amplitudes\")\n",
    "            nk_features = get_nk_features(ecg_cleaned, rpeaks['ECG_R_Peaks'], waves_dwt)\n",
    "        except Exception as e:\n",
    "            print(\"Signal flipped: \", e)\n",
    "            ecg_signal = row.dropna().to_numpy()\n",
    "            ecg_signal = -ecg_signal\n",
    "            ecg_cleaned = nk.ecg_clean(ecg_signal, sampling_rate=300)\n",
    "            peaks, rpeaks = nk.ecg_peaks(ecg_cleaned, sampling_rate=300)\n",
    "            signal_dwt, waves_dwt = nk.ecg_delineate(ecg_cleaned, rpeaks, show_type='all', sampling_rate=300,\n",
    "                                                     method=\"dwt\")\n",
    "            for key, arr in waves_dwt.items():\n",
    "                if 'Onsets' in key or 'Offsets' in key:\n",
    "                    array = np.array(arr)\n",
    "                    #row = add_basic_info(row, np.array(arr), key)\n",
    "            nk_features = get_nk_features(ecg_cleaned, rpeaks['ECG_R_Peaks'], waves_dwt)\n",
    "    \n",
    "    heart_rate = ecg.ecg(signal=ecg_cleaned, sampling_rate=300,show=False)['heart_rate']\n",
    "    \n",
    "    #heart rate features\n",
    "    if(len(heart_rate) > 0):\n",
    "        values_dict['heart_rate_mean'] = np.mean(heart_rate)\n",
    "        values_dict['heart_rate_std'] = np.std(heart_rate)\n",
    "        values_dict['heart_rate_max'] = np.max(heart_rate)\n",
    "        values_dict['heart_rate_min'] = np.min(heart_rate)\n",
    "        values_dict['heart_rate_median'] = np.median(heart_rate)\n",
    "        values_dict['heart_rate_iqr'] = np.subtract(*np.percentile(heart_rate, [75, 25]))\n",
    "        values_dict['heart_rate_skew'] = stats.skew(heart_rate)\n",
    "        values_dict['heart_rate_kurtosis'] = stats.kurtosis(heart_rate)\n",
    "        values_dict['heart_rate_var'] = np.var(heart_rate)\n",
    "        values_dict['heart_rate_range'] = np.ptp(heart_rate)\n",
    "    else:\n",
    "        values_dict['heart_rate_mean'] = np.nan\n",
    "        values_dict['heart_rate_std'] = np.nan\n",
    "        values_dict['heart_rate_max'] = np.nan\n",
    "        values_dict['heart_rate_min'] = np.nan\n",
    "        values_dict['heart_rate_median'] = np.nan\n",
    "        values_dict['heart_rate_iqr'] = np.nan\n",
    "        values_dict['heart_rate_skew'] = np.nan\n",
    "        values_dict['heart_rate_kurtosis'] = np.nan\n",
    "        values_dict['heart_rate_var'] = np.nan\n",
    "        values_dict['heart_rate_range'] = np.nan\n",
    "    \n",
    "\n",
    "    global count_0 \n",
    "    count_0 += 378 - np.count_nonzero(nk_features)\n",
    "    mu = np.zeros(180)\n",
    "    median = np.zeros(180)\n",
    "    std = np.zeros(180)\n",
    "    heart_rate = np.zeros(180)\n",
    "    if len(rpeaks['ECG_R_Peaks']) >= 2:\n",
    "        # print(ecg.extract_heartbeats(signal, r_peaks, 300))\n",
    "        nni = tools.nn_intervals(rpeaks['ECG_R_Peaks'])\n",
    "        values_dict['nni_mean'] = np.mean(nni)\n",
    "        values_dict['nni_std'] = np.std(nni)\n",
    "        values_dict['nni_max'] = np.max(nni)\n",
    "        values_dict['nni_min'] = np.min(nni)\n",
    "        values_dict['nni_median'] = np.median(nni)\n",
    "        values_dict['nni_iqr'] = np.subtract(*np.percentile(nni, [75, 25]))\n",
    "        values_dict['nni_skew'] = stats.skew(nni)\n",
    "        values_dict['nni_kurtosis'] = stats.kurtosis(nni)\n",
    "        values_dict['nni_var'] = np.var(nni)\n",
    "        values_dict['nni_range'] = np.ptp(nni)\n",
    "\n",
    "        beats = ecg.extract_heartbeats(ecg_signal, rpeaks['ECG_R_Peaks'], 300)['templates']\n",
    "        \n",
    "        if len(beats) != 0:\n",
    "            mu = np.mean(beats, axis=0)\n",
    "            median = np.median(beats, axis=0)\n",
    "            std = np.std(beats, axis=0)\n",
    "    else:\n",
    "        values_dict['nni_mean'] = np.nan\n",
    "        values_dict['nni_std'] = np.nan\n",
    "        values_dict['nni_max'] = np.nan\n",
    "        values_dict['nni_min'] = np.nan\n",
    "        values_dict['nni_median'] = np.nan\n",
    "        values_dict['nni_iqr'] = np.nan\n",
    "        values_dict['nni_skew'] = np.nan\n",
    "        values_dict['nni_kurtosis'] = np.nan\n",
    "        values_dict['nni_var'] = np.nan\n",
    "        values_dict['nni_range'] = np.nan\n",
    "\n",
    "    c = datetime.datetime.now()\n",
    "    #print(\"extract_heartbeats\", (c - b).seconds)\n",
    "\n",
    "    d = datetime.datetime.now()\n",
    "    #print(\"delineate\", (d - c).seconds)\n",
    "    fft_window = np.fft.fft(ecg_cleaned)\n",
    "    fft_window_amplitude = np.abs(fft_window)\n",
    "    fft_window_phase = np.angle(fft_window)\n",
    "    fft_window_power = np.square(fft_window_amplitude)\n",
    "    fft_freq = np.fft.fftfreq(len(ecg_cleaned), 1 / 300)\n",
    "    index = 0\n",
    "    for array in [fft_window_amplitude, fft_window_phase, fft_window_power, fft_freq]:\n",
    "        values_dict[f\"fft_mean_{index}\"] = np.mean(array)\n",
    "        values_dict[f\"fft_median_{index}\"] = np.median(array)\n",
    "        values_dict[f\"fft_std_{index}\"] = np.std(array)\n",
    "        values_dict[f\"fft_min_{index}\"] = np.min(array)\n",
    "        values_dict[f\"fft_max_{index}\"] = np.max(array)\n",
    "        values_dict[f\"fft_skew_{index}\"] = stats.skew(array)\n",
    "        values_dict[f\"fft_kurtosis_{index}\"] = stats.kurtosis(array)\n",
    "        values_dict[f\"fft_iqr_{index}\"] = np.subtract(*np.percentile(array, [75, 25]))\n",
    "        values_dict[f\"fft_q1_{index}\"] = np.percentile(array, 25)\n",
    "        values_dict[f\"fft_q3_{index}\"] = np.percentile(array, 75)\n",
    "        values_dict[f\"fft_q5_{index}\"] = np.percentile(array, 5)\n",
    "        values_dict[f\"fft_q95_{index}\"] = np.percentile(array, 95)\n",
    "        values_dict[f\"fft_q10_{index}\"] = np.percentile(array, 10)\n",
    "        values_dict[f\"fft_q90_{index}\"] = np.percentile(array, 90)\n",
    "        values_dict[f\"fft_mean_change_{index}\"] = np.mean(np.diff(array))\n",
    "        index+=1\n",
    "    fft_window = np.fft.fft(median)\n",
    "    fft_window_amplitude = np.abs(fft_window)\n",
    "    fft_window_phase = np.angle(fft_window)\n",
    "    fft_window_power = np.square(fft_window_amplitude)\n",
    "    for array in [fft_window_amplitude, fft_window_phase, fft_window_power]:\n",
    "        values_dict[f\"fft_mean_{index}\"] = np.mean(array)\n",
    "        values_dict[f\"fft_median_{index}\"] = np.median(array)\n",
    "        values_dict[f\"fft_std_{index}\"] = np.std(array)\n",
    "        values_dict[f\"fft_min_{index}\"] = np.min(array)\n",
    "        values_dict[f\"fft_max_{index}\"] = np.max(array)\n",
    "        values_dict[f\"fft_skew_{index}\"] = stats.skew(array)\n",
    "        values_dict[f\"fft_kurtosis_{index}\"] = stats.kurtosis(array)\n",
    "        values_dict[f\"fft_iqr_{index}\"] = np.subtract(*np.percentile(array, [75, 25]))\n",
    "        values_dict[f\"fft_q1_{index}\"] = np.percentile(array, 25)\n",
    "        values_dict[f\"fft_q3_{index}\"] = np.percentile(array, 75)\n",
    "        values_dict[f\"fft_q5_{index}\"] = np.percentile(array, 5)\n",
    "        values_dict[f\"fft_q95_{index}\"] = np.percentile(array, 95)\n",
    "        values_dict[f\"fft_q10_{index}\"] = np.percentile(array, 10)\n",
    "        values_dict[f\"fft_q90_{index}\"] = np.percentile(array, 90)\n",
    "        values_dict[f\"fft_mean_change_{index}\"] = np.mean(np.diff(array))\n",
    "        index+=1\n",
    "    # freq = np.fft.fftfreq(np.array(ecg_cleaned).shape[-1], d=1/300)\n",
    "    # fft_ps = np.abs(fft_window)**2\n",
    "    \n",
    "    #print(fft_window, freq, fft_ps)\n",
    "    e = datetime.datetime.now()\n",
    "    #print(\"fft\", (e - d).seconds)\n",
    "    row = row.drop(columns=[f'x{num}' for num in range(17807)])\n",
    "    f = datetime.datetime.now()\n",
    "    \n",
    "    #print(\"drop\", (f - e).seconds)\n",
    "    for i in range(180):\n",
    "        values_dict[f'mu_{i}'] = mu[i]\n",
    "        values_dict[f'median_{i}'] = median[i]\n",
    "        values_dict[f'std_{i}'] = std[i]\n",
    "    # for i in range(len(fft_window)):\n",
    "    #     #values_dict[f'fft_window_{i}'] = fft_window[i]\n",
    "    #     #values_dict[f'freq_{i}'] = freq[i]\n",
    "    #     #values_dict[f'fft_ps_{i}'] = fft_ps[i]\n",
    "    #     pass\n",
    "    for i in range(len(nk_features)):\n",
    "        values_dict[f'nk_feat_{i}'] = nk_features[i]\n",
    "    \n",
    "    #row.append(pd.Series(values_dict))\n",
    "    g = datetime.datetime.now()\n",
    "    #print(\"add\", (g - f).seconds)\n",
    "    return values_dict"
   ]
  },
  {
   "cell_type": "code",
   "execution_count": 7,
   "metadata": {
    "collapsed": false
   },
   "outputs": [],
   "source": [
    "#classify ecg\n",
    "from functions import *\n",
    "def classify_ecg(x_train):\n",
    "    x_train_ecg = x_train.copy()\n",
    "    '''\n",
    "    x_train_ecg = x_train_ecg.apply(apply_func)\n",
    "    '''\n",
    "    new_train_dict = {}\n",
    "    for index,row in x_train.iterrows():\n",
    "        new_train_dict[str(index)] = apply_func(index,row)\n",
    "        if len(new_train_dict) % 500 == 0:\n",
    "            print(len(new_train_dict))\n",
    "        \n",
    "    return pd.DataFrame.from_dict(new_train_dict,orient='index')"
   ]
  },
  {
   "cell_type": "code",
   "execution_count": 8,
   "metadata": {
    "pycharm": {
     "is_executing": true
    }
   },
   "outputs": [
    {
     "name": "stdout",
     "output_type": "stream",
     "text": [
      "Signal flipped:  '[8300] not in index'\n",
      "500\n",
      "Signal flipped:  '[8073] not in index'\n",
      "1000\n",
      "Signal flipped:  '[8575] not in index'\n",
      "1500\n",
      "Signal flipped:  '[8893] not in index'\n",
      "Signal flipped:  '[3879] not in index'\n",
      "2000\n",
      "2500\n",
      "3000\n",
      "3500\n",
      "Signal flipped:  '[8667] not in index'\n",
      "4000\n",
      "Signal flipped:  '[7565] not in index'\n",
      "4500\n",
      "Signal flipped:  '[8566] not in index'\n",
      "5000\n",
      "Signal flipped:  '[8899] not in index'\n"
     ]
    }
   ],
   "source": [
    "x_train = classify_ecg(x_train)"
   ]
  },
  {
   "cell_type": "code",
   "execution_count": 9,
   "metadata": {
    "pycharm": {
     "is_executing": true
    }
   },
   "outputs": [],
   "source": [
    "x_train.to_csv('x_train_preprocess.csv')"
   ]
  },
  {
   "cell_type": "code",
   "execution_count": 10,
   "metadata": {
    "collapsed": false,
    "pycharm": {
     "is_executing": true
    }
   },
   "outputs": [
    {
     "name": "stdout",
     "output_type": "stream",
     "text": [
      "500\n",
      "1000\n",
      "Signal flipped:  '[8128] not in index'\n",
      "1500\n",
      "2000\n",
      "Signal flipped:  '[8361] not in index'\n",
      "2500\n",
      "3000\n"
     ]
    }
   ],
   "source": [
    "x_test = classify_ecg(x_test)"
   ]
  },
  {
   "cell_type": "code",
   "execution_count": 11,
   "metadata": {
    "collapsed": false,
    "pycharm": {
     "is_executing": true
    }
   },
   "outputs": [],
   "source": [
    "x_test.to_csv('x_test_preprocess.csv')"
   ]
  },
  {
   "cell_type": "code",
   "execution_count": 12,
   "metadata": {},
   "outputs": [
    {
     "name": "stdout",
     "output_type": "stream",
     "text": [
      "heart_rate_mean 4\n",
      "heart_rate_std 4\n",
      "heart_rate_max 4\n",
      "heart_rate_min 4\n",
      "heart_rate_median 4\n",
      "heart_rate_iqr 4\n",
      "heart_rate_skew 5\n",
      "heart_rate_kurtosis 5\n",
      "heart_rate_var 4\n",
      "heart_rate_range 4\n",
      "nni_mean 3\n",
      "nni_std 3\n",
      "nni_max 3\n",
      "nni_min 3\n",
      "nni_median 3\n",
      "nni_iqr 3\n",
      "nni_skew 5\n",
      "nni_kurtosis 5\n",
      "nni_var 3\n",
      "nni_range 3\n",
      "nk_feat_380 6\n",
      "nk_feat_381 6\n",
      "nk_feat_382 6\n",
      "nk_feat_383 6\n",
      "nk_feat_384 6\n",
      "nk_feat_385 6\n",
      "nk_feat_386 6\n",
      "nk_feat_387 6\n"
     ]
    }
   ],
   "source": [
    "#count nan values per column\n",
    "def count_nan(df):\n",
    "    for col in df.columns:\n",
    "        if(df[col].isna().sum() > 0):\n",
    "            print(col,df[col].isna().sum())\n",
    "    \n",
    "count_nan(x_train)"
   ]
  },
  {
   "cell_type": "code",
   "execution_count": 13,
   "metadata": {},
   "outputs": [
    {
     "name": "stdout",
     "output_type": "stream",
     "text": [
      "'heart_rate_mean','heart_rate_std','heart_rate_max','heart_rate_min','heart_rate_median','heart_rate_iqr','heart_rate_skew','heart_rate_kurtosis','heart_rate_var','heart_rate_range','nni_mean','nni_std','nni_max','nni_min','nni_median','nni_iqr','nni_skew','nni_kurtosis','nni_var','nni_range','fft_mean_0','fft_median_0','fft_std_0','fft_min_0','fft_max_0','fft_skew_0','fft_kurtosis_0','fft_iqr_0','fft_q1_0','fft_q3_0','fft_q5_0','fft_q95_0','fft_q10_0','fft_q90_0','fft_mean_change_0','fft_mean_1','fft_median_1','fft_std_1','fft_min_1','fft_max_1','fft_skew_1','fft_kurtosis_1','fft_iqr_1','fft_q1_1','fft_q3_1','fft_q5_1','fft_q95_1','fft_q10_1','fft_q90_1','fft_mean_change_1','fft_mean_2','fft_median_2','fft_std_2','fft_min_2','fft_max_2','fft_skew_2','fft_kurtosis_2','fft_iqr_2','fft_q1_2','fft_q3_2','fft_q5_2','fft_q95_2','fft_q10_2','fft_q90_2','fft_mean_change_2','fft_mean_3','fft_median_3','fft_std_3','fft_min_3','fft_max_3','fft_skew_3','fft_kurtosis_3','fft_iqr_3','fft_q1_3','fft_q3_3','fft_q5_3','fft_q95_3','fft_q10_3','fft_q90_3','fft_mean_change_3','mu_0','median_0','std_0','mu_1','median_1','std_1','mu_2','median_2','std_2','mu_3','median_3','std_3','mu_4','median_4','std_4','mu_5','median_5','std_5','mu_6','median_6','std_6','mu_7','median_7','std_7','mu_8','median_8','std_8','mu_9','median_9','std_9','mu_10','median_10','std_10','mu_11','median_11','std_11','mu_12','median_12','std_12','mu_13','median_13','std_13','mu_14','median_14','std_14','mu_15','median_15','std_15','mu_16','median_16','std_16','mu_17','median_17','std_17','mu_18','median_18','std_18','mu_19','median_19','std_19','mu_20','median_20','std_20','mu_21','median_21','std_21','mu_22','median_22','std_22','mu_23','median_23','std_23','mu_24','median_24','std_24','mu_25','median_25','std_25','mu_26','median_26','std_26','mu_27','median_27','std_27','mu_28','median_28','std_28','mu_29','median_29','std_29','mu_30','median_30','std_30','mu_31','median_31','std_31','mu_32','median_32','std_32','mu_33','median_33','std_33','mu_34','median_34','std_34','mu_35','median_35','std_35','mu_36','median_36','std_36','mu_37','median_37','std_37','mu_38','median_38','std_38','mu_39','median_39','std_39','mu_40','median_40','std_40','mu_41','median_41','std_41','mu_42','median_42','std_42','mu_43','median_43','std_43','mu_44','median_44','std_44','mu_45','median_45','std_45','mu_46','median_46','std_46','mu_47','median_47','std_47','mu_48','median_48','std_48','mu_49','median_49','std_49','mu_50','median_50','std_50','mu_51','median_51','std_51','mu_52','median_52','std_52','mu_53','median_53','std_53','mu_54','median_54','std_54','mu_55','median_55','std_55','mu_56','median_56','std_56','mu_57','median_57','std_57','mu_58','median_58','std_58','mu_59','median_59','std_59','mu_60','median_60','std_60','mu_61','median_61','std_61','mu_62','median_62','std_62','mu_63','median_63','std_63','mu_64','median_64','std_64','mu_65','median_65','std_65','mu_66','median_66','std_66','mu_67','median_67','std_67','mu_68','median_68','std_68','mu_69','median_69','std_69','mu_70','median_70','std_70','mu_71','median_71','std_71','mu_72','median_72','std_72','mu_73','median_73','std_73','mu_74','median_74','std_74','mu_75','median_75','std_75','mu_76','median_76','std_76','mu_77','median_77','std_77','mu_78','median_78','std_78','mu_79','median_79','std_79','mu_80','median_80','std_80','mu_81','median_81','std_81','mu_82','median_82','std_82','mu_83','median_83','std_83','mu_84','median_84','std_84','mu_85','median_85','std_85','mu_86','median_86','std_86','mu_87','median_87','std_87','mu_88','median_88','std_88','mu_89','median_89','std_89','mu_90','median_90','std_90','mu_91','median_91','std_91','mu_92','median_92','std_92','mu_93','median_93','std_93','mu_94','median_94','std_94','mu_95','median_95','std_95','mu_96','median_96','std_96','mu_97','median_97','std_97','mu_98','median_98','std_98','mu_99','median_99','std_99','mu_100','median_100','std_100','mu_101','median_101','std_101','mu_102','median_102','std_102','mu_103','median_103','std_103','mu_104','median_104','std_104','mu_105','median_105','std_105','mu_106','median_106','std_106','mu_107','median_107','std_107','mu_108','median_108','std_108','mu_109','median_109','std_109','mu_110','median_110','std_110','mu_111','median_111','std_111','mu_112','median_112','std_112','mu_113','median_113','std_113','mu_114','median_114','std_114','mu_115','median_115','std_115','mu_116','median_116','std_116','mu_117','median_117','std_117','mu_118','median_118','std_118','mu_119','median_119','std_119','mu_120','median_120','std_120','mu_121','median_121','std_121','mu_122','median_122','std_122','mu_123','median_123','std_123','mu_124','median_124','std_124','mu_125','median_125','std_125','mu_126','median_126','std_126','mu_127','median_127','std_127','mu_128','median_128','std_128','mu_129','median_129','std_129','mu_130','median_130','std_130','mu_131','median_131','std_131','mu_132','median_132','std_132','mu_133','median_133','std_133','mu_134','median_134','std_134','mu_135','median_135','std_135','mu_136','median_136','std_136','mu_137','median_137','std_137','mu_138','median_138','std_138','mu_139','median_139','std_139','mu_140','median_140','std_140','mu_141','median_141','std_141','mu_142','median_142','std_142','mu_143','median_143','std_143','mu_144','median_144','std_144','mu_145','median_145','std_145','mu_146','median_146','std_146','mu_147','median_147','std_147','mu_148','median_148','std_148','mu_149','median_149','std_149','mu_150','median_150','std_150','mu_151','median_151','std_151','mu_152','median_152','std_152','mu_153','median_153','std_153','mu_154','median_154','std_154','mu_155','median_155','std_155','mu_156','median_156','std_156','mu_157','median_157','std_157','mu_158','median_158','std_158','mu_159','median_159','std_159','mu_160','median_160','std_160','mu_161','median_161','std_161','mu_162','median_162','std_162','mu_163','median_163','std_163','mu_164','median_164','std_164','mu_165','median_165','std_165','mu_166','median_166','std_166','mu_167','median_167','std_167','mu_168','median_168','std_168','mu_169','median_169','std_169','mu_170','median_170','std_170','mu_171','median_171','std_171','mu_172','median_172','std_172','mu_173','median_173','std_173','mu_174','median_174','std_174','mu_175','median_175','std_175','mu_176','median_176','std_176','mu_177','median_177','std_177','mu_178','median_178','std_178','mu_179','median_179','std_179','nk_feat_0','nk_feat_1','nk_feat_2','nk_feat_3','nk_feat_4','nk_feat_5','nk_feat_6','nk_feat_7','nk_feat_8','nk_feat_9','nk_feat_10','nk_feat_11','nk_feat_12','nk_feat_13','nk_feat_14','nk_feat_15','nk_feat_16','nk_feat_17','nk_feat_18','nk_feat_19','nk_feat_20','nk_feat_21','nk_feat_22','nk_feat_23','nk_feat_24','nk_feat_25','nk_feat_26','nk_feat_27','nk_feat_28','nk_feat_29','nk_feat_30','nk_feat_31','nk_feat_32','nk_feat_33','nk_feat_34','nk_feat_35','nk_feat_36','nk_feat_37','nk_feat_38','nk_feat_39','nk_feat_40','nk_feat_41','nk_feat_42','nk_feat_43','nk_feat_44','nk_feat_45','nk_feat_46','nk_feat_47','nk_feat_48','nk_feat_49','nk_feat_50','nk_feat_51','nk_feat_52','nk_feat_53','nk_feat_54','nk_feat_55','nk_feat_56','nk_feat_57','nk_feat_58','nk_feat_59','nk_feat_60','nk_feat_61','nk_feat_62','nk_feat_63','nk_feat_64','nk_feat_65','nk_feat_66','nk_feat_67','nk_feat_68','nk_feat_69','nk_feat_70','nk_feat_71','nk_feat_72','nk_feat_73','nk_feat_74','nk_feat_75','nk_feat_76','nk_feat_77','nk_feat_78','nk_feat_79','nk_feat_80','nk_feat_81','nk_feat_82','nk_feat_83','nk_feat_84','nk_feat_85','nk_feat_86','nk_feat_87','nk_feat_88','nk_feat_89','nk_feat_90','nk_feat_91','nk_feat_92','nk_feat_93','nk_feat_94','nk_feat_95','nk_feat_96','nk_feat_97','nk_feat_98','nk_feat_99','nk_feat_100','nk_feat_101','nk_feat_102','nk_feat_103','nk_feat_104','nk_feat_105','nk_feat_106','nk_feat_107','nk_feat_108','nk_feat_109','nk_feat_110','nk_feat_111','nk_feat_112','nk_feat_113','nk_feat_114','nk_feat_115','nk_feat_116','nk_feat_117','nk_feat_118','nk_feat_119','nk_feat_120','nk_feat_121','nk_feat_122','nk_feat_123','nk_feat_124','nk_feat_125','nk_feat_126','nk_feat_127','nk_feat_128','nk_feat_129','nk_feat_130','nk_feat_131','nk_feat_132','nk_feat_133','nk_feat_134','nk_feat_135','nk_feat_136','nk_feat_137','nk_feat_138','nk_feat_139','nk_feat_140','nk_feat_141','nk_feat_142','nk_feat_143','nk_feat_144','nk_feat_145','nk_feat_146','nk_feat_147','nk_feat_148','nk_feat_149','nk_feat_150','nk_feat_151','nk_feat_152','nk_feat_153','nk_feat_154','nk_feat_155','nk_feat_156','nk_feat_157','nk_feat_158','nk_feat_159','nk_feat_160','nk_feat_161','nk_feat_162','nk_feat_163','nk_feat_164','nk_feat_165','nk_feat_166','nk_feat_167','nk_feat_168','nk_feat_169','nk_feat_170','nk_feat_171','nk_feat_172','nk_feat_173','nk_feat_174','nk_feat_175','nk_feat_176','nk_feat_177','nk_feat_178','nk_feat_179','nk_feat_180','nk_feat_181','nk_feat_182','nk_feat_183','nk_feat_184','nk_feat_185','nk_feat_186','nk_feat_187','nk_feat_188','nk_feat_189','nk_feat_190','nk_feat_191','nk_feat_192','nk_feat_193','nk_feat_194','nk_feat_195','nk_feat_196','nk_feat_197','nk_feat_198','nk_feat_199','nk_feat_200','nk_feat_201','nk_feat_202','nk_feat_203','nk_feat_204','nk_feat_205','nk_feat_206','nk_feat_207','nk_feat_208','nk_feat_209','nk_feat_210','nk_feat_211','nk_feat_212','nk_feat_213','nk_feat_214','nk_feat_215','nk_feat_216','nk_feat_217','nk_feat_218','nk_feat_219','nk_feat_220','nk_feat_221','nk_feat_222','nk_feat_223','nk_feat_224','nk_feat_225','nk_feat_226','nk_feat_227','nk_feat_228','nk_feat_229','nk_feat_230','nk_feat_231','nk_feat_232','nk_feat_233','nk_feat_234','nk_feat_235','nk_feat_236','nk_feat_237','nk_feat_238','nk_feat_239','nk_feat_240','nk_feat_241','nk_feat_242','nk_feat_243','nk_feat_244','nk_feat_245','nk_feat_246','nk_feat_247','nk_feat_248','nk_feat_249','nk_feat_250','nk_feat_251','nk_feat_252','nk_feat_253','nk_feat_254','nk_feat_255','nk_feat_256','nk_feat_257','nk_feat_258','nk_feat_259','nk_feat_260','nk_feat_261','nk_feat_262','nk_feat_263','nk_feat_264','nk_feat_265','nk_feat_266','nk_feat_267','nk_feat_268','nk_feat_269','nk_feat_270','nk_feat_271','nk_feat_272','nk_feat_273','nk_feat_274','nk_feat_275','nk_feat_276','nk_feat_277','nk_feat_278','nk_feat_279','nk_feat_280','nk_feat_281','nk_feat_282','nk_feat_283','nk_feat_284','nk_feat_285','nk_feat_286','nk_feat_287','nk_feat_288','nk_feat_289','nk_feat_290','nk_feat_291','nk_feat_292','nk_feat_293','nk_feat_294','nk_feat_295','nk_feat_296','nk_feat_297','nk_feat_298','nk_feat_299','nk_feat_300','nk_feat_301','nk_feat_302','nk_feat_303','nk_feat_304','nk_feat_305','nk_feat_306','nk_feat_307','nk_feat_308','nk_feat_309','nk_feat_310','nk_feat_311','nk_feat_312','nk_feat_313','nk_feat_314','nk_feat_315','nk_feat_316','nk_feat_317','nk_feat_318','nk_feat_319','nk_feat_320','nk_feat_321','nk_feat_322','nk_feat_323','nk_feat_324','nk_feat_325','nk_feat_326','nk_feat_327','nk_feat_328','nk_feat_329','nk_feat_330','nk_feat_331','nk_feat_332','nk_feat_333','nk_feat_334','nk_feat_335','nk_feat_336','nk_feat_337','nk_feat_338','nk_feat_339','nk_feat_340','nk_feat_341','nk_feat_342','nk_feat_343','nk_feat_344','nk_feat_345','nk_feat_346','nk_feat_347','nk_feat_348','nk_feat_349','nk_feat_350','nk_feat_351','nk_feat_352','nk_feat_353','nk_feat_354','nk_feat_355','nk_feat_356','nk_feat_357','nk_feat_358','nk_feat_359','nk_feat_360','nk_feat_361','nk_feat_362','nk_feat_363','nk_feat_364','nk_feat_365','nk_feat_366','nk_feat_367','nk_feat_368','nk_feat_369','nk_feat_370','nk_feat_371','nk_feat_372','nk_feat_373','nk_feat_374','nk_feat_375','nk_feat_376','nk_feat_377','nk_feat_378','nk_feat_379','nk_feat_380','nk_feat_381','nk_feat_382','nk_feat_383','nk_feat_384','nk_feat_385','nk_feat_386','nk_feat_387',"
     ]
    }
   ],
   "source": [
    "#print array of columns names\n",
    "def print_columns(df):\n",
    "    for col in df.columns:\n",
    "        print(\"\\'\",col,\"\\',\",sep='',end='')\n",
    "print_columns(x_train)"
   ]
  },
  {
   "cell_type": "code",
   "execution_count": null,
   "metadata": {},
   "outputs": [],
   "source": []
  }
 ],
 "metadata": {
  "kernelspec": {
   "display_name": "Python 3.8.15 ('venv': venv)",
   "language": "python",
   "name": "python3"
  },
  "language_info": {
   "codemirror_mode": {
    "name": "ipython",
    "version": 3
   },
   "file_extension": ".py",
   "mimetype": "text/x-python",
   "name": "python",
   "nbconvert_exporter": "python",
   "pygments_lexer": "ipython3",
   "version": "3.8.15"
  },
  "vscode": {
   "interpreter": {
    "hash": "57fe57f2cdf78f92aee3d99b2913a1180873ba5e033bb181342afa13c0f35957"
   }
  }
 },
 "nbformat": 4,
 "nbformat_minor": 0
}
